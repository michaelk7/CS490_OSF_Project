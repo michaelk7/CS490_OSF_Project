{
 "cells": [
  {
   "cell_type": "markdown",
   "id": "79995a59",
   "metadata": {},
   "source": [
    "# Load data"
   ]
  },
  {
   "cell_type": "code",
   "execution_count": 15,
   "id": "6dd7f2f2",
   "metadata": {},
   "outputs": [],
   "source": [
    "import pandas as pd\n",
    "import numpy as np\n",
    "import matplotlib.pyplot as plt\n",
    "%matplotlib inline\n",
    "\n",
    "#Dataset from https://dataverse.harvard.edu/dataset.xhtml?persistentId=doi:10.7910/DVN/PX9K2R\n",
    "#Read Excel https://datatofish.com/read_excel/\n",
    "df = pd.read_excel (r'C:\\Users\\moson\\Downloads\\Hyperchloremia _and_DKA_Dataset.xlsx')"
   ]
  },
  {
   "cell_type": "markdown",
   "id": "22484c3b",
   "metadata": {},
   "source": [
    "# Clean/Scale Data"
   ]
  },
  {
   "cell_type": "code",
   "execution_count": 16,
   "id": "a4fe800c",
   "metadata": {},
   "outputs": [],
   "source": [
    "# these col have empty data so drop\n",
    "df = df.drop(\"Hospital AKI, Time of Onset from inition of DKA treatment (hours)\", axis = 1)\n",
    "df = df.drop(\"Duration of Admission Acute Kidney Injury (hours)\", axis = 1)\n",
    "df.dropna(inplace=True)\n",
    "df = df.reset_index()"
   ]
  },
  {
   "cell_type": "markdown",
   "id": "da27734f",
   "metadata": {},
   "source": [
    "# Train/test split"
   ]
  },
  {
   "cell_type": "code",
   "execution_count": 17,
   "id": "1554dbd7",
   "metadata": {},
   "outputs": [],
   "source": [
    "# https://stackoverflow.com/questions/24147278/how-do-i-create-test-and-train-samples-from-one-dataframe-with-pandas\n",
    "from sklearn.model_selection import train_test_split\n",
    "\n",
    "train, test = train_test_split(df, test_size=0.2, random_state=42)"
   ]
  },
  {
   "cell_type": "code",
   "execution_count": 18,
   "id": "24013c48",
   "metadata": {},
   "outputs": [
    {
     "ename": "KeyError",
     "evalue": "\"['Age > 65'] not found in axis\"",
     "output_type": "error",
     "traceback": [
      "\u001b[1;31m---------------------------------------------------------------------------\u001b[0m",
      "\u001b[1;31mKeyError\u001b[0m                                  Traceback (most recent call last)",
      "\u001b[1;32mc:\\Users\\moson\\Documents\\GitHub\\CS490_OSF_Project\\ebdjango\\FinalModel.ipynb Cell 7\u001b[0m in \u001b[0;36m<cell line: 3>\u001b[1;34m()\u001b[0m\n\u001b[0;32m      <a href='vscode-notebook-cell:/c%3A/Users/moson/Documents/GitHub/CS490_OSF_Project/ebdjango/FinalModel.ipynb#W6sZmlsZQ%3D%3D?line=0'>1</a>\u001b[0m \u001b[39mfrom\u001b[39;00m \u001b[39msklearn\u001b[39;00m\u001b[39m.\u001b[39;00m\u001b[39mpreprocessing\u001b[39;00m \u001b[39mimport\u001b[39;00m MinMaxScaler\n\u001b[1;32m----> <a href='vscode-notebook-cell:/c%3A/Users/moson/Documents/GitHub/CS490_OSF_Project/ebdjango/FinalModel.ipynb#W6sZmlsZQ%3D%3D?line=2'>3</a>\u001b[0m X_train \u001b[39m=\u001b[39m train\u001b[39m.\u001b[39;49mdrop([\u001b[39m\"\u001b[39;49m\u001b[39mTime to Final DKA Resolution (hours)\u001b[39;49m\u001b[39m\"\u001b[39;49m, \u001b[39m'\u001b[39;49m\u001b[39mindex\u001b[39;49m\u001b[39m'\u001b[39;49m, \u001b[39m'\u001b[39;49m\u001b[39mVolume of 0.9\u001b[39;49m\u001b[39m%\u001b[39;49m\u001b[39m NaCl (mL)\u001b[39;49m\u001b[39m'\u001b[39;49m, \u001b[39m'\u001b[39;49m\u001b[39mVolume of 0.45\u001b[39;49m\u001b[39m%\u001b[39;49m\u001b[39m NaCl (mL)\u001b[39;49m\u001b[39m'\u001b[39;49m, \u001b[39m'''\u001b[39;49m\u001b[39mVolume of Lactated Ringer\u001b[39;49m\u001b[39m'\u001b[39;49m\u001b[39ms (mL)\u001b[39;49m\u001b[39m'''\u001b[39;49m, \u001b[39m'\u001b[39;49m\u001b[39mAge > 65\u001b[39;49m\u001b[39m'\u001b[39;49m], axis\u001b[39m=\u001b[39;49m\u001b[39m1\u001b[39;49m)\n\u001b[0;32m      <a href='vscode-notebook-cell:/c%3A/Users/moson/Documents/GitHub/CS490_OSF_Project/ebdjango/FinalModel.ipynb#W6sZmlsZQ%3D%3D?line=3'>4</a>\u001b[0m Y_train \u001b[39m=\u001b[39m train[\u001b[39m\"\u001b[39m\u001b[39mTime to Final DKA Resolution (hours)\u001b[39m\u001b[39m\"\u001b[39m]\n\u001b[0;32m      <a href='vscode-notebook-cell:/c%3A/Users/moson/Documents/GitHub/CS490_OSF_Project/ebdjango/FinalModel.ipynb#W6sZmlsZQ%3D%3D?line=4'>5</a>\u001b[0m X_test  \u001b[39m=\u001b[39m test\u001b[39m.\u001b[39mdrop([\u001b[39m\"\u001b[39m\u001b[39mTime to Final DKA Resolution (hours)\u001b[39m\u001b[39m\"\u001b[39m, \u001b[39m'\u001b[39m\u001b[39mindex\u001b[39m\u001b[39m'\u001b[39m, \u001b[39m'\u001b[39m\u001b[39mVolume of 0.9\u001b[39m\u001b[39m%\u001b[39m\u001b[39m NaCl (mL)\u001b[39m\u001b[39m'\u001b[39m, \u001b[39m'\u001b[39m\u001b[39mVolume of 0.45\u001b[39m\u001b[39m%\u001b[39m\u001b[39m NaCl (mL)\u001b[39m\u001b[39m'\u001b[39m, \u001b[39m'''\u001b[39m\u001b[39mVolume of Lactated Ringer\u001b[39m\u001b[39m'\u001b[39m\u001b[39ms (mL)\u001b[39m\u001b[39m'''\u001b[39m, \u001b[39m'\u001b[39m\u001b[39mAge > 65\u001b[39m\u001b[39m'\u001b[39m], axis\u001b[39m=\u001b[39m\u001b[39m1\u001b[39m)\u001b[39m.\u001b[39mcopy()\n",
      "File \u001b[1;32mc:\\Users\\moson\\anaconda3\\lib\\site-packages\\pandas\\util\\_decorators.py:311\u001b[0m, in \u001b[0;36mdeprecate_nonkeyword_arguments.<locals>.decorate.<locals>.wrapper\u001b[1;34m(*args, **kwargs)\u001b[0m\n\u001b[0;32m    305\u001b[0m \u001b[39mif\u001b[39;00m \u001b[39mlen\u001b[39m(args) \u001b[39m>\u001b[39m num_allow_args:\n\u001b[0;32m    306\u001b[0m     warnings\u001b[39m.\u001b[39mwarn(\n\u001b[0;32m    307\u001b[0m         msg\u001b[39m.\u001b[39mformat(arguments\u001b[39m=\u001b[39marguments),\n\u001b[0;32m    308\u001b[0m         \u001b[39mFutureWarning\u001b[39;00m,\n\u001b[0;32m    309\u001b[0m         stacklevel\u001b[39m=\u001b[39mstacklevel,\n\u001b[0;32m    310\u001b[0m     )\n\u001b[1;32m--> 311\u001b[0m \u001b[39mreturn\u001b[39;00m func(\u001b[39m*\u001b[39margs, \u001b[39m*\u001b[39m\u001b[39m*\u001b[39mkwargs)\n",
      "File \u001b[1;32mc:\\Users\\moson\\anaconda3\\lib\\site-packages\\pandas\\core\\frame.py:4954\u001b[0m, in \u001b[0;36mDataFrame.drop\u001b[1;34m(self, labels, axis, index, columns, level, inplace, errors)\u001b[0m\n\u001b[0;32m   4806\u001b[0m \u001b[39m@deprecate_nonkeyword_arguments\u001b[39m(version\u001b[39m=\u001b[39m\u001b[39mNone\u001b[39;00m, allowed_args\u001b[39m=\u001b[39m[\u001b[39m\"\u001b[39m\u001b[39mself\u001b[39m\u001b[39m\"\u001b[39m, \u001b[39m\"\u001b[39m\u001b[39mlabels\u001b[39m\u001b[39m\"\u001b[39m])\n\u001b[0;32m   4807\u001b[0m \u001b[39mdef\u001b[39;00m \u001b[39mdrop\u001b[39m(\n\u001b[0;32m   4808\u001b[0m     \u001b[39mself\u001b[39m,\n\u001b[1;32m   (...)\u001b[0m\n\u001b[0;32m   4815\u001b[0m     errors: \u001b[39mstr\u001b[39m \u001b[39m=\u001b[39m \u001b[39m\"\u001b[39m\u001b[39mraise\u001b[39m\u001b[39m\"\u001b[39m,\n\u001b[0;32m   4816\u001b[0m ):\n\u001b[0;32m   4817\u001b[0m     \u001b[39m\"\"\"\u001b[39;00m\n\u001b[0;32m   4818\u001b[0m \u001b[39m    Drop specified labels from rows or columns.\u001b[39;00m\n\u001b[0;32m   4819\u001b[0m \n\u001b[1;32m   (...)\u001b[0m\n\u001b[0;32m   4952\u001b[0m \u001b[39m            weight  1.0     0.8\u001b[39;00m\n\u001b[0;32m   4953\u001b[0m \u001b[39m    \"\"\"\u001b[39;00m\n\u001b[1;32m-> 4954\u001b[0m     \u001b[39mreturn\u001b[39;00m \u001b[39msuper\u001b[39;49m()\u001b[39m.\u001b[39;49mdrop(\n\u001b[0;32m   4955\u001b[0m         labels\u001b[39m=\u001b[39;49mlabels,\n\u001b[0;32m   4956\u001b[0m         axis\u001b[39m=\u001b[39;49maxis,\n\u001b[0;32m   4957\u001b[0m         index\u001b[39m=\u001b[39;49mindex,\n\u001b[0;32m   4958\u001b[0m         columns\u001b[39m=\u001b[39;49mcolumns,\n\u001b[0;32m   4959\u001b[0m         level\u001b[39m=\u001b[39;49mlevel,\n\u001b[0;32m   4960\u001b[0m         inplace\u001b[39m=\u001b[39;49minplace,\n\u001b[0;32m   4961\u001b[0m         errors\u001b[39m=\u001b[39;49merrors,\n\u001b[0;32m   4962\u001b[0m     )\n",
      "File \u001b[1;32mc:\\Users\\moson\\anaconda3\\lib\\site-packages\\pandas\\core\\generic.py:4267\u001b[0m, in \u001b[0;36mNDFrame.drop\u001b[1;34m(self, labels, axis, index, columns, level, inplace, errors)\u001b[0m\n\u001b[0;32m   4265\u001b[0m \u001b[39mfor\u001b[39;00m axis, labels \u001b[39min\u001b[39;00m axes\u001b[39m.\u001b[39mitems():\n\u001b[0;32m   4266\u001b[0m     \u001b[39mif\u001b[39;00m labels \u001b[39mis\u001b[39;00m \u001b[39mnot\u001b[39;00m \u001b[39mNone\u001b[39;00m:\n\u001b[1;32m-> 4267\u001b[0m         obj \u001b[39m=\u001b[39m obj\u001b[39m.\u001b[39;49m_drop_axis(labels, axis, level\u001b[39m=\u001b[39;49mlevel, errors\u001b[39m=\u001b[39;49merrors)\n\u001b[0;32m   4269\u001b[0m \u001b[39mif\u001b[39;00m inplace:\n\u001b[0;32m   4270\u001b[0m     \u001b[39mself\u001b[39m\u001b[39m.\u001b[39m_update_inplace(obj)\n",
      "File \u001b[1;32mc:\\Users\\moson\\anaconda3\\lib\\site-packages\\pandas\\core\\generic.py:4311\u001b[0m, in \u001b[0;36mNDFrame._drop_axis\u001b[1;34m(self, labels, axis, level, errors, consolidate, only_slice)\u001b[0m\n\u001b[0;32m   4309\u001b[0m         new_axis \u001b[39m=\u001b[39m axis\u001b[39m.\u001b[39mdrop(labels, level\u001b[39m=\u001b[39mlevel, errors\u001b[39m=\u001b[39merrors)\n\u001b[0;32m   4310\u001b[0m     \u001b[39melse\u001b[39;00m:\n\u001b[1;32m-> 4311\u001b[0m         new_axis \u001b[39m=\u001b[39m axis\u001b[39m.\u001b[39;49mdrop(labels, errors\u001b[39m=\u001b[39;49merrors)\n\u001b[0;32m   4312\u001b[0m     indexer \u001b[39m=\u001b[39m axis\u001b[39m.\u001b[39mget_indexer(new_axis)\n\u001b[0;32m   4314\u001b[0m \u001b[39m# Case for non-unique axis\u001b[39;00m\n\u001b[0;32m   4315\u001b[0m \u001b[39melse\u001b[39;00m:\n",
      "File \u001b[1;32mc:\\Users\\moson\\anaconda3\\lib\\site-packages\\pandas\\core\\indexes\\base.py:6644\u001b[0m, in \u001b[0;36mIndex.drop\u001b[1;34m(self, labels, errors)\u001b[0m\n\u001b[0;32m   6642\u001b[0m \u001b[39mif\u001b[39;00m mask\u001b[39m.\u001b[39many():\n\u001b[0;32m   6643\u001b[0m     \u001b[39mif\u001b[39;00m errors \u001b[39m!=\u001b[39m \u001b[39m\"\u001b[39m\u001b[39mignore\u001b[39m\u001b[39m\"\u001b[39m:\n\u001b[1;32m-> 6644\u001b[0m         \u001b[39mraise\u001b[39;00m \u001b[39mKeyError\u001b[39;00m(\u001b[39mf\u001b[39m\u001b[39m\"\u001b[39m\u001b[39m{\u001b[39;00m\u001b[39mlist\u001b[39m(labels[mask])\u001b[39m}\u001b[39;00m\u001b[39m not found in axis\u001b[39m\u001b[39m\"\u001b[39m)\n\u001b[0;32m   6645\u001b[0m     indexer \u001b[39m=\u001b[39m indexer[\u001b[39m~\u001b[39mmask]\n\u001b[0;32m   6646\u001b[0m \u001b[39mreturn\u001b[39;00m \u001b[39mself\u001b[39m\u001b[39m.\u001b[39mdelete(indexer)\n",
      "\u001b[1;31mKeyError\u001b[0m: \"['Age > 65'] not found in axis\""
     ]
    }
   ],
   "source": [
    "from sklearn.preprocessing import MinMaxScaler\n",
    "\n",
    "X_train = train.drop([\"Time to Final DKA Resolution (hours)\", 'index', 'Volume of 0.9% NaCl (mL)', 'Volume of 0.45% NaCl (mL)', '''Volume of Lactated Ringer's (mL)''', 'Age > 65 (0 = no, 1 = yes)'], axis=1)\n",
    "Y_train = train[\"Time to Final DKA Resolution (hours)\"]\n",
    "X_test  = test.drop([\"Time to Final DKA Resolution (hours)\", 'index', 'Volume of 0.9% NaCl (mL)', 'Volume of 0.45% NaCl (mL)', '''Volume of Lactated Ringer's (mL)''', 'Age > 65 (0 = no, 1 = yes)'], axis=1).copy()\n",
    "Y_test = test[\"Time to Final DKA Resolution (hours)\"]\n",
    "\n",
    "print(X_train.shape, Y_train.shape, X_test.shape, Y_test.shape)\n",
    "\n",
    "scaler = MinMaxScaler()\n",
    "train_model = scaler.fit(X_train)\n",
    "test_model = scaler.fit(X_test)\n",
    "X_train = train_model.transform(X_train)\n",
    "X_test = test_model.transform(X_test)"
   ]
  },
  {
   "cell_type": "code",
   "execution_count": null,
   "id": "54003ab9",
   "metadata": {},
   "outputs": [
    {
     "name": "stdout",
     "output_type": "stream",
     "text": [
      "Lasso Root Mean Squared Error: 12.26065208148739\n"
     ]
    }
   ],
   "source": [
    "from sklearn.metrics import mean_squared_error\n",
    "from sklearn import linear_model\n",
    "\n",
    "las = linear_model.Lasso(alpha=1)\n",
    "las.fit(X_train, Y_train)\n",
    "las_predictions = las.predict(X_test)\n",
    "print('Lasso Root Mean Squared Error:', mean_squared_error(Y_test, las_predictions, squared = False))"
   ]
  },
  {
   "cell_type": "code",
   "execution_count": null,
   "id": "d61f51e2",
   "metadata": {},
   "outputs": [
    {
     "name": "stdout",
     "output_type": "stream",
     "text": [
      "Best Alpha: 0.070000\n",
      "LassoCV Root Mean Squared Error: 8.243447845186912\n"
     ]
    }
   ],
   "source": [
    "cv_las = linear_model.LassoCV(alphas=np.arange(0.07, 1, 0.01), cv=5)\n",
    "cv_las.fit(X_train, Y_train)\n",
    "cvlas_predictions = cv_las.predict(X_test)\n",
    "\n",
    "print('Best Alpha: %f' % cv_las.alpha_)\n",
    "print('LassoCV Root Mean Squared Error:', mean_squared_error(Y_test, cvlas_predictions, squared = False))"
   ]
  },
  {
   "cell_type": "code",
   "execution_count": null,
   "id": "cc14eb66",
   "metadata": {},
   "outputs": [
    {
     "data": {
      "text/plain": [
       "['./../savedModels/models.joblib']"
      ]
     },
     "execution_count": 14,
     "metadata": {},
     "output_type": "execute_result"
    }
   ],
   "source": [
    "from joblib import dump\n",
    "\n",
    "dump(cv_las, './../savedModels/models.joblib')"
   ]
  },
  {
   "cell_type": "code",
   "execution_count": null,
   "id": "1d6e90ef",
   "metadata": {},
   "outputs": [],
   "source": []
  }
 ],
 "metadata": {
  "kernelspec": {
   "display_name": "base",
   "language": "python",
   "name": "python3"
  },
  "language_info": {
   "codemirror_mode": {
    "name": "ipython",
    "version": 3
   },
   "file_extension": ".py",
   "mimetype": "text/x-python",
   "name": "python",
   "nbconvert_exporter": "python",
   "pygments_lexer": "ipython3",
   "version": "3.9.12"
  },
  "vscode": {
   "interpreter": {
    "hash": "2dd5a7774bce748040bdad02339be86a29ccb7f43ac04355348b036522cd8cb2"
   }
  }
 },
 "nbformat": 4,
 "nbformat_minor": 5
}
