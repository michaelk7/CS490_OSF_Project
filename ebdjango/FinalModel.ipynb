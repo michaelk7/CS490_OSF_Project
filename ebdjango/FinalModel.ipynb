{
 "cells": [
  {
   "cell_type": "markdown",
   "id": "79995a59",
   "metadata": {},
   "source": [
    "# Load data"
   ]
  },
  {
   "cell_type": "code",
   "execution_count": 1,
   "id": "6dd7f2f2",
   "metadata": {},
   "outputs": [],
   "source": [
    "import pandas as pd\n",
    "import numpy as np\n",
    "import matplotlib.pyplot as plt\n",
    "%matplotlib inline\n",
    "\n",
    "#Dataset from https://dataverse.harvard.edu/dataset.xhtml?persistentId=doi:10.7910/DVN/PX9K2R\n",
    "#Read Excel https://datatofish.com/read_excel/\n",
    "df = pd.read_excel (r'C:\\Users\\moson\\Downloads\\Hyperchloremia _and_DKA_Dataset.xlsx')"
   ]
  },
  {
   "cell_type": "markdown",
   "id": "22484c3b",
   "metadata": {},
   "source": [
    "# Clean/Scale Data"
   ]
  },
  {
   "cell_type": "code",
   "execution_count": 2,
   "id": "a4fe800c",
   "metadata": {},
   "outputs": [],
   "source": [
    "# these col have empty data so drop\n",
    "df = df.drop(\"Hospital AKI, Time of Onset from inition of DKA treatment (hours)\", axis = 1)\n",
    "df = df.drop(\"Duration of Admission Acute Kidney Injury (hours)\", axis = 1)\n",
    "df.dropna(inplace=True)\n",
    "df = df.reset_index()"
   ]
  },
  {
   "cell_type": "markdown",
   "id": "da27734f",
   "metadata": {},
   "source": [
    "# Train/test split"
   ]
  },
  {
   "cell_type": "code",
   "execution_count": 3,
   "id": "1554dbd7",
   "metadata": {},
   "outputs": [],
   "source": [
    "# https://stackoverflow.com/questions/24147278/how-do-i-create-test-and-train-samples-from-one-dataframe-with-pandas\n",
    "from sklearn.model_selection import train_test_split\n",
    "\n",
    "train, test = train_test_split(df, test_size=0.2, random_state=42)"
   ]
  },
  {
   "cell_type": "code",
   "execution_count": 4,
   "id": "24013c48",
   "metadata": {},
   "outputs": [
    {
     "name": "stdout",
     "output_type": "stream",
     "text": [
      "(80, 48) (80,) (20, 48) (20,)\n"
     ]
    }
   ],
   "source": [
    "from sklearn.preprocessing import MinMaxScaler\n",
    "\n",
    "X_train = train.drop(\"Time to Final DKA Resolution (hours)\", axis=1)\n",
    "Y_train = train[\"Time to Final DKA Resolution (hours)\"]\n",
    "X_test  = test.drop(\"Time to Final DKA Resolution (hours)\", axis=1).copy()\n",
    "Y_test = test[\"Time to Final DKA Resolution (hours)\"]\n",
    "print(X_train.shape, Y_train.shape, X_test.shape, Y_test.shape)\n",
    "\n",
    "scaler = MinMaxScaler()\n",
    "train_model = scaler.fit(X_train)\n",
    "test_model = scaler.fit(X_test)\n",
    "X_train = train_model.transform(X_train)\n",
    "X_test = test_model.transform(X_test)"
   ]
  },
  {
   "cell_type": "code",
   "execution_count": 5,
   "id": "54003ab9",
   "metadata": {},
   "outputs": [
    {
     "name": "stdout",
     "output_type": "stream",
     "text": [
      "Lasso Root Mean Squared Error: 11.554641011464003\n"
     ]
    }
   ],
   "source": [
    "from sklearn.metrics import mean_squared_error\n",
    "from sklearn import linear_model\n",
    "\n",
    "las = linear_model.Lasso(alpha=1)\n",
    "las.fit(X_train, Y_train)\n",
    "las_predictions = las.predict(X_test)\n",
    "print('Lasso Root Mean Squared Error:', mean_squared_error(Y_test, las_predictions, squared = False))"
   ]
  },
  {
   "cell_type": "code",
   "execution_count": 6,
   "id": "d61f51e2",
   "metadata": {},
   "outputs": [
    {
     "name": "stdout",
     "output_type": "stream",
     "text": [
      "Best Alpha: 0.070000\n",
      "LassoCV Root Mean Squared Error: 7.386731536769981\n"
     ]
    }
   ],
   "source": [
    "cv_las = linear_model.LassoCV(alphas=np.arange(0.07, 1, 0.01), cv=5)\n",
    "cv_las.fit(X_train, Y_train)\n",
    "cvlas_predictions = cv_las.predict(X_test)\n",
    "\n",
    "print('Best Alpha: %f' % cv_las.alpha_)\n",
    "print('LassoCV Root Mean Squared Error:', mean_squared_error(Y_test, cvlas_predictions, squared = False))"
   ]
  },
  {
   "cell_type": "code",
   "execution_count": 7,
   "id": "cc14eb66",
   "metadata": {},
   "outputs": [
    {
     "data": {
      "text/plain": [
       "['./../savedModels/models.joblib']"
      ]
     },
     "execution_count": 7,
     "metadata": {},
     "output_type": "execute_result"
    }
   ],
   "source": [
    "from joblib import dump\n",
    "\n",
    "dump(cv_las, './../savedModels/models.joblib')"
   ]
  },
  {
   "cell_type": "code",
   "execution_count": null,
   "id": "1d6e90ef",
   "metadata": {},
   "outputs": [],
   "source": []
  }
 ],
 "metadata": {
  "kernelspec": {
   "display_name": "base",
   "language": "python",
   "name": "python3"
  },
  "language_info": {
   "codemirror_mode": {
    "name": "ipython",
    "version": 3
   },
   "file_extension": ".py",
   "mimetype": "text/x-python",
   "name": "python",
   "nbconvert_exporter": "python",
   "pygments_lexer": "ipython3",
   "version": "3.9.12"
  },
  "vscode": {
   "interpreter": {
    "hash": "2dd5a7774bce748040bdad02339be86a29ccb7f43ac04355348b036522cd8cb2"
   }
  }
 },
 "nbformat": 4,
 "nbformat_minor": 5
}
